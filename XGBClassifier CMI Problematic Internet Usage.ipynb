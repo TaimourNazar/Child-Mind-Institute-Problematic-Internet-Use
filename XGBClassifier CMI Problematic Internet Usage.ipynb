{
 "cells": [
  {
   "cell_type": "markdown",
   "id": "0e8312a3",
   "metadata": {
    "papermill": {
     "duration": 0.003414,
     "end_time": "2024-10-08T13:02:23.296415",
     "exception": false,
     "start_time": "2024-10-08T13:02:23.293001",
     "status": "completed"
    },
    "tags": []
   },
   "source": [
    "# Import Libraries"
   ]
  },
  {
   "cell_type": "code",
   "execution_count": 1,
   "id": "259cdc60",
   "metadata": {
    "_cell_guid": "b1076dfc-b9ad-4769-8c92-a6c4dae69d19",
    "_kg_hide-input": false,
    "_uuid": "8f2839f25d086af736a60e9eeb907d3b93b6e0e5",
    "execution": {
     "iopub.execute_input": "2024-10-08T13:02:23.304488Z",
     "iopub.status.busy": "2024-10-08T13:02:23.303946Z",
     "iopub.status.idle": "2024-10-08T13:02:26.338875Z",
     "shell.execute_reply": "2024-10-08T13:02:26.337571Z"
    },
    "papermill": {
     "duration": 3.041979,
     "end_time": "2024-10-08T13:02:26.341412",
     "exception": false,
     "start_time": "2024-10-08T13:02:23.299433",
     "status": "completed"
    },
    "tags": []
   },
   "outputs": [],
   "source": [
    "import numpy as np # linear algebra\n",
    "import pandas as pd #\n",
    "from xgboost import XGBClassifier\n",
    "import os\n",
    "from tqdm import tqdm\n",
    "from concurrent.futures import ThreadPoolExecutor"
   ]
  },
  {
   "cell_type": "markdown",
   "id": "7f38507d",
   "metadata": {
    "papermill": {
     "duration": 0.002352,
     "end_time": "2024-10-08T13:02:26.346471",
     "exception": false,
     "start_time": "2024-10-08T13:02:26.344119",
     "status": "completed"
    },
    "tags": []
   },
   "source": [
    "# Load and Prepare Data\n",
    "\n",
    "**CSV Files**"
   ]
  },
  {
   "cell_type": "code",
   "execution_count": 2,
   "id": "2ed62f30",
   "metadata": {
    "execution": {
     "iopub.execute_input": "2024-10-08T13:02:26.353360Z",
     "iopub.status.busy": "2024-10-08T13:02:26.352796Z",
     "iopub.status.idle": "2024-10-08T13:02:26.452223Z",
     "shell.execute_reply": "2024-10-08T13:02:26.451161Z"
    },
    "papermill": {
     "duration": 0.105801,
     "end_time": "2024-10-08T13:02:26.454789",
     "exception": false,
     "start_time": "2024-10-08T13:02:26.348988",
     "status": "completed"
    },
    "tags": []
   },
   "outputs": [],
   "source": [
    "train_df = pd.read_csv('/kaggle/input/child-mind-institute-problematic-internet-use/train.csv')\n",
    "\n",
    "TARGET_COLS = [\n",
    "    \"PCIAT-Season\",\n",
    "    \"PCIAT-PCIAT_01\",\n",
    "    \"PCIAT-PCIAT_02\",\n",
    "    \"PCIAT-PCIAT_03\",\n",
    "    \"PCIAT-PCIAT_04\",\n",
    "    \"PCIAT-PCIAT_05\",\n",
    "    \"PCIAT-PCIAT_06\",\n",
    "    \"PCIAT-PCIAT_07\",\n",
    "    \"PCIAT-PCIAT_08\",\n",
    "    \"PCIAT-PCIAT_09\",\n",
    "    \"PCIAT-PCIAT_10\",\n",
    "    \"PCIAT-PCIAT_11\",\n",
    "    \"PCIAT-PCIAT_12\",\n",
    "    \"PCIAT-PCIAT_13\",\n",
    "    \"PCIAT-PCIAT_14\",\n",
    "    \"PCIAT-PCIAT_15\",\n",
    "    \"PCIAT-PCIAT_16\",    \n",
    "    \"PCIAT-PCIAT_17\",\n",
    "    \"PCIAT-PCIAT_18\",\n",
    "    \"PCIAT-PCIAT_19\",\n",
    "    \"PCIAT-PCIAT_20\",\n",
    "    \"PCIAT-PCIAT_Total\"\n",
    "]\n",
    "\n",
    "train_data = train_df.drop(TARGET_COLS,axis=1)\n",
    "\n",
    "test_df = pd.read_csv('/kaggle/input/child-mind-institute-problematic-internet-use/test.csv')\n",
    "ids = test_df['id']\n",
    "\n"
   ]
  },
  {
   "cell_type": "markdown",
   "id": "523a651f",
   "metadata": {
    "papermill": {
     "duration": 0.002271,
     "end_time": "2024-10-08T13:02:26.459798",
     "exception": false,
     "start_time": "2024-10-08T13:02:26.457527",
     "status": "completed"
    },
    "tags": []
   },
   "source": [
    "**Parquet Files**"
   ]
  },
  {
   "cell_type": "code",
   "execution_count": 3,
   "id": "4196ed13",
   "metadata": {
    "execution": {
     "iopub.execute_input": "2024-10-08T13:02:26.466550Z",
     "iopub.status.busy": "2024-10-08T13:02:26.466124Z",
     "iopub.status.idle": "2024-10-08T13:04:00.618014Z",
     "shell.execute_reply": "2024-10-08T13:04:00.616866Z"
    },
    "papermill": {
     "duration": 94.158053,
     "end_time": "2024-10-08T13:04:00.620429",
     "exception": false,
     "start_time": "2024-10-08T13:02:26.462376",
     "status": "completed"
    },
    "tags": []
   },
   "outputs": [
    {
     "name": "stderr",
     "output_type": "stream",
     "text": [
      "100%|██████████| 996/996 [01:33<00:00, 10.64it/s]\n",
      "100%|██████████| 2/2 [00:00<00:00,  8.31it/s]\n"
     ]
    }
   ],
   "source": [
    "def process_file(filename, dirname):\n",
    "    df = pd.read_parquet(os.path.join(dirname, filename, 'part-0.parquet'))\n",
    "    df.drop('step', axis=1, inplace=True)\n",
    "    return df.describe().values.reshape(-1), filename.split('=')[1]\n",
    "\n",
    "def load_time_series(dirname) -> pd.DataFrame:\n",
    "    ids = os.listdir(dirname)\n",
    "    \n",
    "    with ThreadPoolExecutor() as executor:\n",
    "        results = list(tqdm(executor.map(lambda fname: process_file(fname, dirname), ids), total=len(ids)))\n",
    "    \n",
    "    stats, indexes = zip(*results)\n",
    "    \n",
    "    df = pd.DataFrame(stats, columns=[f\"Stat_{i}\" for i in range(len(stats[0]))])\n",
    "    df['id'] = indexes\n",
    "    \n",
    "    return df\n",
    "\n",
    "train_ts = load_time_series(\"/kaggle/input/child-mind-institute-problematic-internet-use/series_train.parquet\")\n",
    "test_ts = load_time_series(\"/kaggle/input/child-mind-institute-problematic-internet-use/series_test.parquet\")\n",
    "time_series_cols = train_ts.columns.tolist()\n",
    "# time_series_cols.remove(\"id\")\n",
    "\n",
    "train = pd.merge(train_data, train_ts, how=\"left\", on='id')\n",
    "test = pd.merge(test_df, test_ts, how=\"left\", on='id')\n",
    "\n",
    "train = train.drop('id', axis=1)\n",
    "test = test.drop('id', axis=1)\n",
    "# train_data\n",
    "# test_df "
   ]
  },
  {
   "cell_type": "code",
   "execution_count": 4,
   "id": "92caec25",
   "metadata": {
    "execution": {
     "iopub.execute_input": "2024-10-08T13:04:00.676654Z",
     "iopub.status.busy": "2024-10-08T13:04:00.676199Z",
     "iopub.status.idle": "2024-10-08T13:04:03.226761Z",
     "shell.execute_reply": "2024-10-08T13:04:03.225490Z"
    },
    "papermill": {
     "duration": 2.581184,
     "end_time": "2024-10-08T13:04:03.229575",
     "exception": false,
     "start_time": "2024-10-08T13:04:00.648391",
     "status": "completed"
    },
    "tags": []
   },
   "outputs": [],
   "source": [
    "from sklearn.preprocessing import StandardScaler, LabelEncoder\n",
    "\n",
    "def preprocess_data(df,train_data=False):\n",
    "    # Handle numerical columns\n",
    "    scaler = StandardScaler()\n",
    "    num_cols = df.select_dtypes(include=np.number).columns\n",
    "    df[num_cols] = df[num_cols].fillna(df[num_cols].median())\n",
    "    \n",
    "    # Handle categorical columns\n",
    "    cat_cols = df.select_dtypes(include='object').columns\n",
    "    for col in cat_cols:\n",
    "        df[col] = df[col].fillna(df[col].mode()[0])  # Fill missing with the most frequent value\n",
    "        df[col] = LabelEncoder().fit_transform(df[col].astype(str))\n",
    "    \n",
    "    if train_data:\n",
    "        y = list(df['sii'])\n",
    "        X = scaler.fit_transform(df.drop(['sii'],axis=1))\n",
    "        return X,y\n",
    "    scaled_df = scaler.fit_transform(df)\n",
    "    \n",
    "    \n",
    "    return scaled_df\n",
    "\n",
    "X,y = preprocess_data(train,train_data=True)\n",
    "test_data = preprocess_data(test)\n",
    "\n",
    "my_model = XGBClassifier()\n",
    "# Add silent=True to avoid printing out updates with each cycle\n",
    "my_model.fit(X, y, verbose=False)\n",
    "\n",
    "test_result = my_model.predict(test_data).astype(np.int32)\n",
    "sample_submission = pd.DataFrame(columns=['id','sii'])\n",
    "sample_submission['id'] = ids\n",
    "sample_submission['sii'] = test_result\n",
    "\n",
    "sample_submission.to_csv('submission.csv',index=False)"
   ]
  }
 ],
 "metadata": {
  "kaggle": {
   "accelerator": "none",
   "dataSources": [
    {
     "databundleVersionId": 9643020,
     "sourceId": 81933,
     "sourceType": "competition"
    }
   ],
   "dockerImageVersionId": 30786,
   "isGpuEnabled": false,
   "isInternetEnabled": false,
   "language": "python",
   "sourceType": "notebook"
  },
  "kernelspec": {
   "display_name": "Python 3",
   "language": "python",
   "name": "python3"
  },
  "language_info": {
   "codemirror_mode": {
    "name": "ipython",
    "version": 3
   },
   "file_extension": ".py",
   "mimetype": "text/x-python",
   "name": "python",
   "nbconvert_exporter": "python",
   "pygments_lexer": "ipython3",
   "version": "3.10.14"
  },
  "papermill": {
   "default_parameters": {},
   "duration": 103.554932,
   "end_time": "2024-10-08T13:04:03.876974",
   "environment_variables": {},
   "exception": null,
   "input_path": "__notebook__.ipynb",
   "output_path": "__notebook__.ipynb",
   "parameters": {},
   "start_time": "2024-10-08T13:02:20.322042",
   "version": "2.6.0"
  }
 },
 "nbformat": 4,
 "nbformat_minor": 5
}
